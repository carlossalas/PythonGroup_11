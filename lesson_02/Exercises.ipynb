{
 "cells": [
  {
   "cell_type": "markdown",
   "metadata": {},
   "source": [
    "# Ejercicios #"
   ]
  },
  {
   "cell_type": "markdown",
   "metadata": {},
   "source": [
    "## 1. Ordenar ##\n",
    "\n",
    "Dada una lista de números enteros, tienes la tarea de ordenarla de menor a mayor."
   ]
  },
  {
   "cell_type": "code",
   "execution_count": null,
   "metadata": {},
   "outputs": [],
   "source": [
    "lista = [5,37,8,36,8,4,7]\n",
    "lista.sort()\n",
    "print(lista)"
   ]
  },
  {
   "cell_type": "markdown",
   "metadata": {},
   "source": [
    "## 2. Segundo mayor puntaje  ##\n",
    "\n",
    "Dada una lista de números enteros que representan los puntajes en un examen, debes devolver el segundo mayor puntaje, pueden haber puntajes iguales."
   ]
  },
  {
   "cell_type": "code",
   "execution_count": null,
   "metadata": {},
   "outputs": [],
   "source": [
    "lista = [5,10,16,13,15,16,15,20]\n",
    "lista.sort()\n",
    "lista = set(lista)\n",
    "lista = list(lista)\n",
    "print(lista[-2])"
   ]
  },
  {
   "cell_type": "markdown",
   "metadata": {},
   "source": [
    "## 3. Intercambia mayúsculas y minúsculas ##\n",
    "\n",
    "Lee una cadena y convierte las minúsculas en mayúsculas y viceversa. Imprime la respuesta.\n",
    "\n",
    "**Ejemplo:**\n",
    "\n",
    "> Www.Area51TrainingCenter.com → wWW.aREA51tRAININGcENTER.COM"
   ]
  },
  {
   "cell_type": "code",
   "execution_count": null,
   "metadata": {},
   "outputs": [],
   "source": [
    "string = 'Www.Area51TrainingCenter.com'\n",
    "new_string = '';\n",
    "for l in string:\n",
    "    if ( l.isupper() ):\n",
    "        new_string += l.lower()\n",
    "    else:\n",
    "        new_string += l.upper()\n",
    "\n",
    "print(new_string)"
   ]
  },
  {
   "cell_type": "markdown",
   "metadata": {},
   "source": [
    "## 4. Ancho de Cadena ##\n",
    "\n",
    "Dada una cadena y un ancho. Tienes la tarea de convertir la cadena en un texto que tenga el ancho dado. Garantizamos que este ancho será siempre positivo y menor al tamaño de la cadena. \n",
    "\n",
    "**Ejemplo de entrada**\n",
    "\n",
    "    ABCDEFGHIJKLIMNOQRSTUVWXYZ\n",
    "\n",
    "    4\n",
    "\n",
    "**Ejemplo de salida**\n",
    "\n",
    "    ABCD\n",
    "    EFGH\n",
    "    IJKL\n",
    "    IMNO\n",
    "    QRST\n",
    "    UVWX\n",
    "    YZ"
   ]
  },
  {
   "cell_type": "code",
   "execution_count": null,
   "metadata": {},
   "outputs": [],
   "source": [
    "string = 'ABCDEFGHIJKLIMNOQRSTUVWXYZ'\n",
    "width = 4\n",
    "for l in range(0, len(string), width):\n",
    "    print(string[l:l+width])"
   ]
  }
 ],
 "metadata": {
  "kernelspec": {
   "display_name": "Python 3",
   "language": "python",
   "name": "python3"
  },
  "language_info": {
   "codemirror_mode": {
    "name": "ipython",
    "version": 3
   },
   "file_extension": ".py",
   "mimetype": "text/x-python",
   "name": "python",
   "nbconvert_exporter": "python",
   "pygments_lexer": "ipython3",
   "version": "3.7.0"
  }
 },
 "nbformat": 4,
 "nbformat_minor": 2
}
