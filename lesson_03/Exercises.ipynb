{
 "cells": [
  {
   "cell_type": "markdown",
   "metadata": {},
   "source": [
    "# Ejercicios #"
   ]
  },
  {
   "cell_type": "markdown",
   "metadata": {},
   "source": [
    "## 1. Frecuencia ##\n",
    "\n",
    "Dada una lista de pares que representan tipos y medidas de altura de plantas, el profesor de botánica Dr. Pierre Curie te pide de favor que listes todos los tipos de plantas y la suma de alturas por cada tipo.\n",
    "\n",
    "**Ejemplo:**\n",
    "\n",
    "Entrada:\n",
    "\n",
    "    [(\"Rosa\", 25.5), (\"Violeta\", 14.2), (\"rosa\", 10.4)]\n",
    "\n",
    "Salida:\n",
    "\n",
    "    Rosa 35.9\n",
    "    Violeta 14.2"
   ]
  },
  {
   "cell_type": "code",
   "execution_count": 28,
   "metadata": {},
   "outputs": [
    {
     "name": "stdout",
     "output_type": "stream",
     "text": [
      "{'Rosa': 35.9, 'Violeta': 14.2}\n"
     ]
    }
   ],
   "source": [
    "plantas = [(\"Rosa\", 25.5), (\"Violeta\", 14.2), (\"rosa\", 10.4)]\n",
    "\n",
    "resultado = dict()\n",
    "for tipo_planta, altura_planta in plantas:\n",
    "    if tipo_planta.title() in resultado:\n",
    "        resultado[tipo_planta.title()] += altura_planta\n",
    "    else:\n",
    "        resultado[tipo_planta.title()] = altura_planta\n",
    "\n",
    "print(resultado)"
   ]
  },
  {
   "cell_type": "markdown",
   "metadata": {},
   "source": [
    "## 2. Cuenta de visitas a subdominios ##\n",
    "\n",
    "Un dominio web como \"group11.area51.com\" consiste de varios subdominios. En el nivel más alto, tenemos \"com\", en el siguiente nivel tenemos \"area51.com\", y en el nivel más bajo, \"group11.area51.com\". Cuando visitamos un dominio como \"group11.area51.com\", también visitamos los dominios padres \"area51.com\" y \"com\" implicitamente.\n",
    "\n",
    "Bien, llamamos un \"cuenta-visita dominio\" a un valor (representando el número de visitas que un dominio ha recibido), seguido por una dirección web. Un ejemplo podría ser \"9001 group11.area51.com\".\n",
    "\n",
    "Nos dan una lista de \"cuenta-visita dominio\". Nos gustaría imprimir los \"cuenta-visita dominio\", (en el mismo formato que la entrada), que explicitamente cuente el número de visitas a cada subdominio.\n",
    "\n",
    "**Ejemplo:**\n",
    "\n",
    "Entrada:\n",
    "\n",
    "    [\"9001 group11.area51.com\", \"10000 area51.com\"]\n",
    "\n",
    "Salida:\n",
    "\n",
    "    [\"9001 group11.area51.com\", \"19001 area51.com\", \"19001 com\"]"
   ]
  },
  {
   "cell_type": "code",
   "execution_count": 43,
   "metadata": {},
   "outputs": [
    {
     "name": "stdout",
     "output_type": "stream",
     "text": [
      "['9001 group11.area51.com', '10000 area51.com']\n",
      "[('9001', ['com', 'area51', 'group11']), ('10000', ['com', 'area51'])]\n",
      "9001 com\n",
      "9001 area51\n",
      "9001 group11\n",
      "10000 com\n",
      "10000 area51\n",
      "[]\n"
     ]
    }
   ],
   "source": [
    "input_lista = [\"9001 group11.area51.com\", \"10000 area51.com\"]\n",
    "print(input_lista)\n",
    "split_lista = []\n",
    "for lista in input_lista:\n",
    "    visitas, dominio = lista.split()\n",
    "    split_lista.append((visitas, list(reversed(dominio.split('.')))))\n",
    "print(split_lista)\n",
    "final_lista = []\n",
    "for i in split_lista:\n",
    "    for j in i[1]:\n",
    "        print(int(i[0]), j);\n",
    "        #final_lista.append((int(i[0]), j));\n",
    "print(final_lista);"
   ]
  },
  {
   "cell_type": "markdown",
   "metadata": {},
   "source": [
    "## 3. Piedras y joyas ##\n",
    "\n",
    "Dada una cadena `J` representando los tipos de piedras que son joyas, y `P` representando las piedras que tienes. Cada caracter en `P` es un tipo de piedra que tienes. Quieres conocer cuantas de tus piedras son también joyas.\n",
    "\n",
    "Las letras en `J` siempre serán distintas, y todos los caracteres `J` y `P` son letras. Las letras son *case sensitive*, es decir \"a\" es condiderada un distinto tipo de piedra que \"A\".\n",
    "\n",
    "**Ejemplo:**\n",
    "\n",
    ">Entrada: P = \"aA\", J = \"aAAbbbb\"\n",
    ">\n",
    ">Salida: 3\n"
   ]
  },
  {
   "cell_type": "markdown",
   "metadata": {},
   "source": [
    "## 4. Contiene duplicados ##\n",
    "\n",
    "Dada una lista de enteros, determinar si la lista contiene algún elemento duplicado. Tu solución debe retornar `True` si algún valor aparece al menos dos veces en la lista, y `False` en caso contrario.\n",
    "\n",
    "**Ejemplo:**\n",
    "\n",
    "> Entrada: [1,2,3,1]\n",
    ">\n",
    "> Salida: True"
   ]
  },
  {
   "cell_type": "code",
   "execution_count": 47,
   "metadata": {},
   "outputs": [
    {
     "name": "stdout",
     "output_type": "stream",
     "text": [
      "True\n"
     ]
    }
   ],
   "source": [
    "lista = [1,2,3,4,5,4]\n",
    "print(len(lista) != len(set(lista)))"
   ]
  },
  {
   "cell_type": "code",
   "execution_count": null,
   "metadata": {},
   "outputs": [],
   "source": []
  }
 ],
 "metadata": {
  "kernelspec": {
   "display_name": "Python 3",
   "language": "python",
   "name": "python3"
  },
  "language_info": {
   "codemirror_mode": {
    "name": "ipython",
    "version": 3
   },
   "file_extension": ".py",
   "mimetype": "text/x-python",
   "name": "python",
   "nbconvert_exporter": "python",
   "pygments_lexer": "ipython3",
   "version": "3.7.0"
  }
 },
 "nbformat": 4,
 "nbformat_minor": 2
}
