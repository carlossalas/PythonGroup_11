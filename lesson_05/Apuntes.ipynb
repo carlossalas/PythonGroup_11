{
 "cells": [
  {
   "cell_type": "markdown",
   "metadata": {},
   "source": [
    "# Apuntes Clase 5 (Mie 1 de Ago)"
   ]
  },
  {
   "cell_type": "markdown",
   "metadata": {},
   "source": [
    "##Orientada a Objetos"
   ]
  },
  {
   "cell_type": "code",
   "execution_count": 20,
   "metadata": {},
   "outputs": [
    {
     "name": "stdout",
     "output_type": "stream",
     "text": [
      "<__main__.Cerdo object at 0x10ccf1828>\n",
      "<class '__main__.Cerdo'>\n",
      "['__class__', '__delattr__', '__dict__', '__dir__', '__doc__', '__eq__', '__format__', '__ge__', '__getattribute__', '__gt__', '__hash__', '__init__', '__init_subclass__', '__le__', '__lt__', '__module__', '__ne__', '__new__', '__reduce__', '__reduce_ex__', '__repr__', '__setattr__', '__sizeof__', '__str__', '__subclasshook__', '__weakref__']\n"
     ]
    }
   ],
   "source": [
    "class Cerdo:\n",
    "    pass\n",
    "\n",
    "cerdo = Cerdo();\n",
    "print(cerdo)\n",
    "print(type(cerdo))\n",
    "print(dir(cerdo))"
   ]
  },
  {
   "cell_type": "code",
   "execution_count": 23,
   "metadata": {},
   "outputs": [
    {
     "name": "stdout",
     "output_type": "stream",
     "text": [
      "Mi nombre es Porky, y peso 100 kg\n",
      "Porky\n"
     ]
    }
   ],
   "source": [
    "class Cerdo:\n",
    "    def __init__(self, name, weigth):\n",
    "        self.name = name\n",
    "        self.weigth = weigth\n",
    "        \n",
    "    def __str__(self):\n",
    "        return 'Mi nombre es {}, y peso {} kg'.format(self.name, self.weigth)\n",
    "        \n",
    "    def show_name(self):\n",
    "        print(self.name)\n",
    "\n",
    "\n",
    "cerdo = Cerdo('Porky', 100);\n",
    "print(cerdo)\n",
    "cerdo.show_name()"
   ]
  },
  {
   "cell_type": "code",
   "execution_count": 56,
   "metadata": {},
   "outputs": [
    {
     "name": "stdout",
     "output_type": "stream",
     "text": [
      "10 / 20\n",
      "1 / 2\n",
      "5 / 4\n",
      "7 / 4\n",
      "5 / 8\n",
      "0.5\n",
      "0.5\n",
      "0.75\n",
      "0.75\n",
      "1.25\n",
      "1.25\n"
     ]
    }
   ],
   "source": [
    "class Fraction:\n",
    "    def __init__(self, num, den):\n",
    "        self.num = num\n",
    "        self.den = den\n",
    "    \n",
    "    def toFloat(self):\n",
    "        return self.num / self.den\n",
    "\n",
    "    def toReduceShape(self):\n",
    "        g = self.gcd(self.num, self.den)\n",
    "        return '{} / {}'.format(self.num // g, self.den // g)\n",
    "    \n",
    "    def gcd(self, a, b):\n",
    "        if b == 0:\n",
    "            return a\n",
    "        return self.gcd(b, a % b)\n",
    "    \n",
    "    def __mul__(self, that):\n",
    "        res_fraction = Fraction(self.num * that.num, self.den * that.den)\n",
    "        return res_fraction\n",
    "    \n",
    "    def product(self, that):\n",
    "        res_fraction = Fraction(self.num * that.num, self.den * that.den)\n",
    "        return res_fraction\n",
    "    \n",
    "    def __add__(self, that):\n",
    "        num = self.num * that.den + self.den * that.num\n",
    "        den = self.den * that.den\n",
    "        res_fraction = Fraction(num, den)\n",
    "        return res_fraction\n",
    "    \n",
    "    def addition(self, that):\n",
    "        num = self.num * that.den + self.den * that.num\n",
    "        den = self.den * that.den\n",
    "        res_fraction = Fraction(num, den)\n",
    "        return res_fraction\n",
    "    \n",
    "    #def __eq__(self, that):\n",
    "    #    return self.toFloat() == that.toFloat()\n",
    "    \n",
    "    def __lt__(self, that):\n",
    "        return self.toFloat() < that.toFloat()\n",
    "    \n",
    "    def __str__(self):\n",
    "        #return str(self.num) + '/' + str(self.den)\n",
    "        return '{} / {}'.format(self.num, self.den)\n",
    "\n",
    "\n",
    "fraction = Fraction(10, 20)\n",
    "fraction2 = Fraction(3, 4)\n",
    "print(fraction)\n",
    "fraction.toReduceShape()\n",
    "fraction.toFloat()\n",
    "f = fraction.product(fraction2)\n",
    "f.toReduceShape()\n",
    "f = fraction.addition(fraction2)\n",
    "f.toReduceShape()\n",
    "\n",
    "print(fraction.toReduceShape())\n",
    "print(f.toReduceShape())\n",
    "\n",
    "print((fraction + f).toReduceShape())\n",
    "print((fraction * f).toReduceShape())\n",
    "\n",
    "l = [fraction2, fraction, f, fraction2, f, fraction]\n",
    "#l = [2, -5, 6]\n",
    "l.sort()\n",
    "for f in l:\n",
    "    print(f.toFloat())"
   ]
  },
  {
   "cell_type": "code",
   "execution_count": null,
   "metadata": {},
   "outputs": [],
   "source": []
  },
  {
   "cell_type": "code",
   "execution_count": null,
   "metadata": {},
   "outputs": [],
   "source": []
  }
 ],
 "metadata": {
  "kernelspec": {
   "display_name": "Python 3",
   "language": "python",
   "name": "python3"
  },
  "language_info": {
   "codemirror_mode": {
    "name": "ipython",
    "version": 3
   },
   "file_extension": ".py",
   "mimetype": "text/x-python",
   "name": "python",
   "nbconvert_exporter": "python",
   "pygments_lexer": "ipython3",
   "version": "3.7.0"
  }
 },
 "nbformat": 4,
 "nbformat_minor": 2
}
